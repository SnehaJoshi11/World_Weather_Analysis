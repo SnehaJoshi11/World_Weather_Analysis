{
 "cells": [
  {
   "cell_type": "code",
   "execution_count": 13,
   "id": "e8a1784d",
   "metadata": {},
   "outputs": [],
   "source": [
    "# Import the dependencies.\n",
    "import pandas as pd\n",
    "import gmaps\n",
    "import requests\n",
    "# Import the API key.\n",
    "#from config import g_key"
   ]
  },
  {
   "cell_type": "code",
   "execution_count": 14,
   "id": "e1fe576f",
   "metadata": {},
   "outputs": [],
   "source": [
    "#import keys by other way\n",
    "\n",
    "import sys \n",
    "\n",
    "sys.path.append(\"C:/Users/Ameysne/api\")\n",
    "\n",
    "from api_key import g_key\n",
    "api_key = g_key\n"
   ]
  },
  {
   "cell_type": "code",
   "execution_count": 15,
   "id": "a29bb9f7",
   "metadata": {},
   "outputs": [
    {
     "data": {
      "text/html": [
       "<div>\n",
       "<style scoped>\n",
       "    .dataframe tbody tr th:only-of-type {\n",
       "        vertical-align: middle;\n",
       "    }\n",
       "\n",
       "    .dataframe tbody tr th {\n",
       "        vertical-align: top;\n",
       "    }\n",
       "\n",
       "    .dataframe thead th {\n",
       "        text-align: right;\n",
       "    }\n",
       "</style>\n",
       "<table border=\"1\" class=\"dataframe\">\n",
       "  <thead>\n",
       "    <tr style=\"text-align: right;\">\n",
       "      <th></th>\n",
       "      <th>City_ID</th>\n",
       "      <th>City</th>\n",
       "      <th>Country</th>\n",
       "      <th>Date</th>\n",
       "      <th>Lat</th>\n",
       "      <th>Lng</th>\n",
       "      <th>Max Temp</th>\n",
       "      <th>Humidity</th>\n",
       "      <th>Cloudiness</th>\n",
       "      <th>Wind Speed</th>\n",
       "    </tr>\n",
       "  </thead>\n",
       "  <tbody>\n",
       "    <tr>\n",
       "      <th>0</th>\n",
       "      <td>0</td>\n",
       "      <td>Ushuaia</td>\n",
       "      <td>AR</td>\n",
       "      <td>2021-12-21 17:14:29</td>\n",
       "      <td>-54.8000</td>\n",
       "      <td>-68.3000</td>\n",
       "      <td>58.62</td>\n",
       "      <td>62</td>\n",
       "      <td>40</td>\n",
       "      <td>35.68</td>\n",
       "    </tr>\n",
       "    <tr>\n",
       "      <th>1</th>\n",
       "      <td>1</td>\n",
       "      <td>Saint-Philippe</td>\n",
       "      <td>RE</td>\n",
       "      <td>2021-12-21 17:16:38</td>\n",
       "      <td>-21.3585</td>\n",
       "      <td>55.7679</td>\n",
       "      <td>78.39</td>\n",
       "      <td>87</td>\n",
       "      <td>74</td>\n",
       "      <td>12.01</td>\n",
       "    </tr>\n",
       "    <tr>\n",
       "      <th>2</th>\n",
       "      <td>2</td>\n",
       "      <td>Muros</td>\n",
       "      <td>ES</td>\n",
       "      <td>2021-12-21 17:16:38</td>\n",
       "      <td>42.7762</td>\n",
       "      <td>-9.0603</td>\n",
       "      <td>64.09</td>\n",
       "      <td>79</td>\n",
       "      <td>100</td>\n",
       "      <td>11.07</td>\n",
       "    </tr>\n",
       "    <tr>\n",
       "      <th>3</th>\n",
       "      <td>3</td>\n",
       "      <td>Leningradskiy</td>\n",
       "      <td>RU</td>\n",
       "      <td>2021-12-21 17:16:38</td>\n",
       "      <td>69.3833</td>\n",
       "      <td>178.4167</td>\n",
       "      <td>0.46</td>\n",
       "      <td>70</td>\n",
       "      <td>84</td>\n",
       "      <td>30.87</td>\n",
       "    </tr>\n",
       "    <tr>\n",
       "      <th>4</th>\n",
       "      <td>4</td>\n",
       "      <td>Billings</td>\n",
       "      <td>US</td>\n",
       "      <td>2021-12-21 17:15:18</td>\n",
       "      <td>45.7833</td>\n",
       "      <td>-108.5007</td>\n",
       "      <td>36.52</td>\n",
       "      <td>72</td>\n",
       "      <td>20</td>\n",
       "      <td>3.44</td>\n",
       "    </tr>\n",
       "  </tbody>\n",
       "</table>\n",
       "</div>"
      ],
      "text/plain": [
       "   City_ID            City Country                 Date      Lat       Lng  \\\n",
       "0        0         Ushuaia      AR  2021-12-21 17:14:29 -54.8000  -68.3000   \n",
       "1        1  Saint-Philippe      RE  2021-12-21 17:16:38 -21.3585   55.7679   \n",
       "2        2           Muros      ES  2021-12-21 17:16:38  42.7762   -9.0603   \n",
       "3        3   Leningradskiy      RU  2021-12-21 17:16:38  69.3833  178.4167   \n",
       "4        4        Billings      US  2021-12-21 17:15:18  45.7833 -108.5007   \n",
       "\n",
       "   Max Temp  Humidity  Cloudiness  Wind Speed  \n",
       "0     58.62        62          40       35.68  \n",
       "1     78.39        87          74       12.01  \n",
       "2     64.09        79         100       11.07  \n",
       "3      0.46        70          84       30.87  \n",
       "4     36.52        72          20        3.44  "
      ]
     },
     "execution_count": 15,
     "metadata": {},
     "output_type": "execute_result"
    }
   ],
   "source": [
    "# Store the CSV you saved created in part one into a DataFrame.\n",
    "city_data_df = pd.read_csv(\"weather_data/cities.csv\")\n",
    "city_data_df.head()"
   ]
  },
  {
   "cell_type": "code",
   "execution_count": 16,
   "id": "5060918b",
   "metadata": {},
   "outputs": [
    {
     "data": {
      "text/plain": [
       "City_ID         int64\n",
       "City           object\n",
       "Country        object\n",
       "Date           object\n",
       "Lat           float64\n",
       "Lng           float64\n",
       "Max Temp      float64\n",
       "Humidity        int64\n",
       "Cloudiness      int64\n",
       "Wind Speed    float64\n",
       "dtype: object"
      ]
     },
     "execution_count": 16,
     "metadata": {},
     "output_type": "execute_result"
    }
   ],
   "source": [
    "city_data_df.dtypes"
   ]
  },
  {
   "cell_type": "code",
   "execution_count": 17,
   "id": "f0a4f396",
   "metadata": {},
   "outputs": [],
   "source": [
    "# Configure gmaps to use your Google API key.\n",
    "gmaps.configure(api_key=g_key)\n"
   ]
  },
  {
   "cell_type": "code",
   "execution_count": 6,
   "id": "5648c051",
   "metadata": {},
   "outputs": [],
   "source": [
    "# 1. Assign the locations to an array of latitude and longitude pairs.\n",
    "#locations = [latitude, longitude]\n",
    "# 2. Assign the weights variable to some values.\n",
    "#temperatures = # an array of length equal to the locations array length\n",
    "# 3. Assign the figure variable to the gmaps.figure() attribute.\n",
    "#fig = gmaps.figure()\n",
    "# 4. Assign the heatmap_layer variable to the heatmap_layer attribute and add in the locations.\n",
    "#heatmap_layer = gmaps.heatmap_layer(locations, weights=temperatures)\n",
    "\n",
    "# 5. Add the heatmap layer.b\n",
    "#fig.add_layer(heatmap_layer)\n",
    "# 6. Call the figure to plot the data.\n",
    "#bfig"
   ]
  },
  {
   "cell_type": "code",
   "execution_count": 7,
   "id": "5d9fbdf4",
   "metadata": {},
   "outputs": [
    {
     "data": {
      "application/vnd.jupyter.widget-view+json": {
       "model_id": "6a9de3866e754383aa1b5fee5ee6e36c",
       "version_major": 2,
       "version_minor": 0
      },
      "text/plain": [
       "IntSlider(value=0)"
      ]
     },
     "metadata": {},
     "output_type": "display_data"
    }
   ],
   "source": [
    "import ipywidgets as widgets\n",
    "widgets.IntSlider()"
   ]
  },
  {
   "cell_type": "code",
   "execution_count": null,
   "id": "eefc9d3a",
   "metadata": {},
   "outputs": [],
   "source": []
  },
  {
   "cell_type": "code",
   "execution_count": 8,
   "id": "2fd5722f",
   "metadata": {},
   "outputs": [],
   "source": [
    "# Get the maximum temperature.\n",
    "max_temp = city_data_df[\"Max Temp\"]\n",
    "temps = []\n",
    "for temp in max_temp:\n",
    "    #[max(temp, 0) for temp in max_temp]\n",
    "    temps.append(max(temp, 0))"
   ]
  },
  {
   "cell_type": "code",
   "execution_count": 9,
   "id": "5cd06f62",
   "metadata": {},
   "outputs": [
    {
     "data": {
      "application/vnd.jupyter.widget-view+json": {
       "model_id": "960cfdd8cd9947f5b1db9c619b03bf0a",
       "version_major": 2,
       "version_minor": 0
      },
      "text/plain": [
       "Figure(layout=FigureLayout(height='420px'))"
      ]
     },
     "metadata": {},
     "output_type": "display_data"
    }
   ],
   "source": [
    "# Heatmap of temperature\n",
    "# Get the latitude and longitude.\n",
    "locations = city_data_df[[\"Lat\", \"Lng\"]]\n",
    "# Get the maximum temperature.\n",
    "max_temp = city_data_df[\"Max Temp\"]\n",
    "# Assign the figure variable.\n",
    "fig = gmaps.figure(center=(30.0, 31.0), zoom_level=1.5)\n",
    "# Assign the heatmap variable.\n",
    "#heat_layer = gmaps.heatmap_layer(locations, weights=[max(temp, 0) for temp in max_temp])\n",
    "heat_layer = gmaps.heatmap_layer(locations, weights=[max(temp, 0) for temp in max_temp], dissipating=False, max_intensity=300, point_radius=4)\n",
    "# Add the heatmap layer.\n",
    "fig.add_layer(heat_layer)\n",
    "# Call the figure to plot the data.\n",
    "fig"
   ]
  },
  {
   "cell_type": "code",
   "execution_count": 10,
   "id": "226a494e",
   "metadata": {},
   "outputs": [
    {
     "data": {
      "application/vnd.jupyter.widget-view+json": {
       "model_id": "15beeff07da949319d07ee90bd130cfe",
       "version_major": 2,
       "version_minor": 0
      },
      "text/plain": [
       "Figure(layout=FigureLayout(height='420px'))"
      ]
     },
     "metadata": {},
     "output_type": "display_data"
    }
   ],
   "source": [
    "# Heatmap of percent humidity\n",
    "locations = city_data_df[[\"Lat\", \"Lng\"]]\n",
    "humidity = city_data_df[\"Humidity\"]\n",
    "fig = gmaps.figure(center=(30.0, 31.0), zoom_level=1.5)\n",
    "heat_layer = gmaps.heatmap_layer(locations, weights=humidity, dissipating=False, max_intensity=300, point_radius=4)\n",
    "\n",
    "fig.add_layer(heat_layer)\n",
    "# Call the figure to plot the data.\n",
    "fig"
   ]
  },
  {
   "cell_type": "code",
   "execution_count": 11,
   "id": "e8c47c62",
   "metadata": {},
   "outputs": [
    {
     "data": {
      "application/vnd.jupyter.widget-view+json": {
       "model_id": "95d53d220d9442f2b40ec2c25b975740",
       "version_major": 2,
       "version_minor": 0
      },
      "text/plain": [
       "Figure(layout=FigureLayout(height='420px'))"
      ]
     },
     "metadata": {},
     "output_type": "display_data"
    }
   ],
   "source": [
    "# Heatmap of cloudiness\n",
    "# Get the latitude and longitude.\n",
    "locations = city_data_df[[\"Lat\", \"Lng\"]]\n",
    "# Get the maximum temperature.\n",
    "clouds = city_data_df[\"Cloudiness\"]\n",
    "# Assign the figure variable.\n",
    "fig = gmaps.figure(center=(30.0, 31.0), zoom_level=1.5)\n",
    "# Assign the heatmap variable.\n",
    "#heat_layer = gmaps.heatmap_layer(locations, weights=[max(temp, 0) for temp in max_temp])\n",
    "heat_layer = gmaps.heatmap_layer(locations, weights=clouds, dissipating=False, max_intensity=300, point_radius=4)\n",
    "# Add the heatmap layer.\n",
    "fig.add_layer(heat_layer)\n",
    "# Call the figure to plot the data.\n",
    "#fig.save(\"Heatmap of cloudiness.png\")\n",
    "fig"
   ]
  },
  {
   "cell_type": "code",
   "execution_count": 12,
   "id": "be2e61bf",
   "metadata": {},
   "outputs": [
    {
     "data": {
      "application/vnd.jupyter.widget-view+json": {
       "model_id": "3d33ec0185c14dfd96b3a143b5b9563d",
       "version_major": 2,
       "version_minor": 0
      },
      "text/plain": [
       "Figure(layout=FigureLayout(height='420px'))"
      ]
     },
     "metadata": {},
     "output_type": "display_data"
    }
   ],
   "source": [
    "# Heatmap of wind speed\n",
    "# Get the latitude and longitude.\n",
    "locations = city_data_df[[\"Lat\", \"Lng\"]]\n",
    "# Get the maximum temperature.\n",
    "wind = city_data_df[\"Wind Speed\"]\n",
    "# Assign the figure variable.\n",
    "fig = gmaps.figure(center=(30.0, 31.0), zoom_level=1.5)\n",
    "# Assign the heatmap variable.\n",
    "#heat_layer = gmaps.heatmap_layer(locations, weights=[max(temp, 0) for temp in max_temp])\n",
    "heat_layer = gmaps.heatmap_layer(locations, weights= wind, dissipating=False, max_intensity=300, point_radius=4)\n",
    "# Add the heatmap layer.\n",
    "fig.add_layer(heat_layer)\n",
    "# Call the figure to plot the data.\n",
    "fig"
   ]
  },
  {
   "cell_type": "code",
   "execution_count": 25,
   "id": "5c7e99a7",
   "metadata": {},
   "outputs": [
    {
     "name": "stdout",
     "output_type": "stream",
     "text": [
      "What is the minimum temperature you would like for your trip? 50\n",
      "What is the maximum temperature you would like for your trip? 75\n"
     ]
    }
   ],
   "source": [
    "# Ask the customer to add a minimum and maximum temperature value.\n",
    "min_temp = float(input(\"What is the minimum temperature you would like for your trip? \"))\n",
    "max_temp = float(input(\"What is the maximum temperature you would like for your trip? \"))"
   ]
  },
  {
   "cell_type": "code",
   "execution_count": 26,
   "id": "ef068fc6",
   "metadata": {},
   "outputs": [
    {
     "data": {
      "text/html": [
       "<div>\n",
       "<style scoped>\n",
       "    .dataframe tbody tr th:only-of-type {\n",
       "        vertical-align: middle;\n",
       "    }\n",
       "\n",
       "    .dataframe tbody tr th {\n",
       "        vertical-align: top;\n",
       "    }\n",
       "\n",
       "    .dataframe thead th {\n",
       "        text-align: right;\n",
       "    }\n",
       "</style>\n",
       "<table border=\"1\" class=\"dataframe\">\n",
       "  <thead>\n",
       "    <tr style=\"text-align: right;\">\n",
       "      <th></th>\n",
       "      <th>City_ID</th>\n",
       "      <th>City</th>\n",
       "      <th>Country</th>\n",
       "      <th>Date</th>\n",
       "      <th>Lat</th>\n",
       "      <th>Lng</th>\n",
       "      <th>Max Temp</th>\n",
       "      <th>Humidity</th>\n",
       "      <th>Cloudiness</th>\n",
       "      <th>Wind Speed</th>\n",
       "    </tr>\n",
       "  </thead>\n",
       "  <tbody>\n",
       "    <tr>\n",
       "      <th>0</th>\n",
       "      <td>0</td>\n",
       "      <td>Ushuaia</td>\n",
       "      <td>AR</td>\n",
       "      <td>2021-12-21 17:14:29</td>\n",
       "      <td>-54.8000</td>\n",
       "      <td>-68.3000</td>\n",
       "      <td>58.62</td>\n",
       "      <td>62</td>\n",
       "      <td>40</td>\n",
       "      <td>35.68</td>\n",
       "    </tr>\n",
       "    <tr>\n",
       "      <th>2</th>\n",
       "      <td>2</td>\n",
       "      <td>Muros</td>\n",
       "      <td>ES</td>\n",
       "      <td>2021-12-21 17:16:38</td>\n",
       "      <td>42.7762</td>\n",
       "      <td>-9.0603</td>\n",
       "      <td>64.09</td>\n",
       "      <td>79</td>\n",
       "      <td>100</td>\n",
       "      <td>11.07</td>\n",
       "    </tr>\n",
       "    <tr>\n",
       "      <th>6</th>\n",
       "      <td>6</td>\n",
       "      <td>Coihaique</td>\n",
       "      <td>CL</td>\n",
       "      <td>2021-12-21 17:16:39</td>\n",
       "      <td>-45.5752</td>\n",
       "      <td>-72.0662</td>\n",
       "      <td>73.35</td>\n",
       "      <td>35</td>\n",
       "      <td>0</td>\n",
       "      <td>3.44</td>\n",
       "    </tr>\n",
       "    <tr>\n",
       "      <th>10</th>\n",
       "      <td>10</td>\n",
       "      <td>Busselton</td>\n",
       "      <td>AU</td>\n",
       "      <td>2021-12-21 17:16:40</td>\n",
       "      <td>-33.6500</td>\n",
       "      <td>115.3333</td>\n",
       "      <td>60.08</td>\n",
       "      <td>85</td>\n",
       "      <td>17</td>\n",
       "      <td>14.45</td>\n",
       "    </tr>\n",
       "    <tr>\n",
       "      <th>13</th>\n",
       "      <td>13</td>\n",
       "      <td>Asyut</td>\n",
       "      <td>EG</td>\n",
       "      <td>2021-12-21 17:16:41</td>\n",
       "      <td>27.1810</td>\n",
       "      <td>31.1837</td>\n",
       "      <td>54.73</td>\n",
       "      <td>49</td>\n",
       "      <td>7</td>\n",
       "      <td>5.12</td>\n",
       "    </tr>\n",
       "    <tr>\n",
       "      <th>16</th>\n",
       "      <td>16</td>\n",
       "      <td>Faya</td>\n",
       "      <td>SA</td>\n",
       "      <td>2021-12-21 17:16:43</td>\n",
       "      <td>18.3851</td>\n",
       "      <td>42.4509</td>\n",
       "      <td>60.91</td>\n",
       "      <td>82</td>\n",
       "      <td>84</td>\n",
       "      <td>2.37</td>\n",
       "    </tr>\n",
       "    <tr>\n",
       "      <th>19</th>\n",
       "      <td>19</td>\n",
       "      <td>Mackay</td>\n",
       "      <td>AU</td>\n",
       "      <td>2021-12-21 17:16:44</td>\n",
       "      <td>-21.1500</td>\n",
       "      <td>149.2000</td>\n",
       "      <td>71.04</td>\n",
       "      <td>72</td>\n",
       "      <td>12</td>\n",
       "      <td>1.74</td>\n",
       "    </tr>\n",
       "    <tr>\n",
       "      <th>20</th>\n",
       "      <td>20</td>\n",
       "      <td>Kailua</td>\n",
       "      <td>US</td>\n",
       "      <td>2021-12-21 17:16:44</td>\n",
       "      <td>21.4022</td>\n",
       "      <td>-157.7394</td>\n",
       "      <td>73.38</td>\n",
       "      <td>73</td>\n",
       "      <td>75</td>\n",
       "      <td>13.80</td>\n",
       "    </tr>\n",
       "    <tr>\n",
       "      <th>22</th>\n",
       "      <td>22</td>\n",
       "      <td>Saldanha</td>\n",
       "      <td>ZA</td>\n",
       "      <td>2021-12-21 17:16:45</td>\n",
       "      <td>-33.0117</td>\n",
       "      <td>17.9442</td>\n",
       "      <td>69.30</td>\n",
       "      <td>76</td>\n",
       "      <td>28</td>\n",
       "      <td>13.13</td>\n",
       "    </tr>\n",
       "    <tr>\n",
       "      <th>26</th>\n",
       "      <td>26</td>\n",
       "      <td>Greytown</td>\n",
       "      <td>ZA</td>\n",
       "      <td>2021-12-21 17:16:46</td>\n",
       "      <td>-29.0642</td>\n",
       "      <td>30.5928</td>\n",
       "      <td>63.25</td>\n",
       "      <td>99</td>\n",
       "      <td>94</td>\n",
       "      <td>1.95</td>\n",
       "    </tr>\n",
       "  </tbody>\n",
       "</table>\n",
       "</div>"
      ],
      "text/plain": [
       "    City_ID       City Country                 Date      Lat       Lng  \\\n",
       "0         0    Ushuaia      AR  2021-12-21 17:14:29 -54.8000  -68.3000   \n",
       "2         2      Muros      ES  2021-12-21 17:16:38  42.7762   -9.0603   \n",
       "6         6  Coihaique      CL  2021-12-21 17:16:39 -45.5752  -72.0662   \n",
       "10       10  Busselton      AU  2021-12-21 17:16:40 -33.6500  115.3333   \n",
       "13       13      Asyut      EG  2021-12-21 17:16:41  27.1810   31.1837   \n",
       "16       16       Faya      SA  2021-12-21 17:16:43  18.3851   42.4509   \n",
       "19       19     Mackay      AU  2021-12-21 17:16:44 -21.1500  149.2000   \n",
       "20       20     Kailua      US  2021-12-21 17:16:44  21.4022 -157.7394   \n",
       "22       22   Saldanha      ZA  2021-12-21 17:16:45 -33.0117   17.9442   \n",
       "26       26   Greytown      ZA  2021-12-21 17:16:46 -29.0642   30.5928   \n",
       "\n",
       "    Max Temp  Humidity  Cloudiness  Wind Speed  \n",
       "0      58.62        62          40       35.68  \n",
       "2      64.09        79         100       11.07  \n",
       "6      73.35        35           0        3.44  \n",
       "10     60.08        85          17       14.45  \n",
       "13     54.73        49           7        5.12  \n",
       "16     60.91        82          84        2.37  \n",
       "19     71.04        72          12        1.74  \n",
       "20     73.38        73          75       13.80  \n",
       "22     69.30        76          28       13.13  \n",
       "26     63.25        99          94        1.95  "
      ]
     },
     "execution_count": 26,
     "metadata": {},
     "output_type": "execute_result"
    }
   ],
   "source": [
    "# Filter the dataset to find the cities that fit the criteria.\n",
    "preferred_cities_df = city_data_df.loc[(city_data_df[\"Max Temp\"] <= max_temp) & \\\n",
    "                                       (city_data_df[\"Max Temp\"] >= min_temp)]\n",
    "preferred_cities_df.head(10)"
   ]
  },
  {
   "cell_type": "code",
   "execution_count": 27,
   "id": "863e13a9",
   "metadata": {},
   "outputs": [
    {
     "data": {
      "text/plain": [
       "City_ID       127\n",
       "City          127\n",
       "Country       126\n",
       "Date          127\n",
       "Lat           127\n",
       "Lng           127\n",
       "Max Temp      127\n",
       "Humidity      127\n",
       "Cloudiness    127\n",
       "Wind Speed    127\n",
       "dtype: int64"
      ]
     },
     "execution_count": 27,
     "metadata": {},
     "output_type": "execute_result"
    }
   ],
   "source": [
    "preferred_cities_df.count()"
   ]
  },
  {
   "cell_type": "code",
   "execution_count": 28,
   "id": "7e6b982f",
   "metadata": {},
   "outputs": [
    {
     "data": {
      "text/plain": [
       "City_ID       0\n",
       "City          0\n",
       "Country       1\n",
       "Date          0\n",
       "Lat           0\n",
       "Lng           0\n",
       "Max Temp      0\n",
       "Humidity      0\n",
       "Cloudiness    0\n",
       "Wind Speed    0\n",
       "dtype: int64"
      ]
     },
     "execution_count": 28,
     "metadata": {},
     "output_type": "execute_result"
    }
   ],
   "source": [
    "preferred_cities_df.isnull().sum()"
   ]
  },
  {
   "cell_type": "code",
   "execution_count": 29,
   "id": "98f33e48",
   "metadata": {},
   "outputs": [
    {
     "data": {
      "text/plain": [
       "City_ID       127\n",
       "City          127\n",
       "Country       126\n",
       "Date          127\n",
       "Lat           127\n",
       "Lng           127\n",
       "Max Temp      127\n",
       "Humidity      127\n",
       "Cloudiness    127\n",
       "Wind Speed    127\n",
       "dtype: int64"
      ]
     },
     "execution_count": 29,
     "metadata": {},
     "output_type": "execute_result"
    }
   ],
   "source": [
    "preferred_cities_df.notnull().sum()"
   ]
  },
  {
   "cell_type": "code",
   "execution_count": 30,
   "id": "b259406d",
   "metadata": {},
   "outputs": [
    {
     "data": {
      "text/html": [
       "<div>\n",
       "<style scoped>\n",
       "    .dataframe tbody tr th:only-of-type {\n",
       "        vertical-align: middle;\n",
       "    }\n",
       "\n",
       "    .dataframe tbody tr th {\n",
       "        vertical-align: top;\n",
       "    }\n",
       "\n",
       "    .dataframe thead th {\n",
       "        text-align: right;\n",
       "    }\n",
       "</style>\n",
       "<table border=\"1\" class=\"dataframe\">\n",
       "  <thead>\n",
       "    <tr style=\"text-align: right;\">\n",
       "      <th></th>\n",
       "      <th>City_ID</th>\n",
       "      <th>City</th>\n",
       "      <th>Country</th>\n",
       "      <th>Date</th>\n",
       "      <th>Lat</th>\n",
       "      <th>Lng</th>\n",
       "      <th>Max Temp</th>\n",
       "      <th>Humidity</th>\n",
       "      <th>Cloudiness</th>\n",
       "      <th>Wind Speed</th>\n",
       "    </tr>\n",
       "  </thead>\n",
       "  <tbody>\n",
       "    <tr>\n",
       "      <th>0</th>\n",
       "      <td>0</td>\n",
       "      <td>Ushuaia</td>\n",
       "      <td>AR</td>\n",
       "      <td>2021-12-21 17:14:29</td>\n",
       "      <td>-54.8000</td>\n",
       "      <td>-68.3000</td>\n",
       "      <td>58.62</td>\n",
       "      <td>62</td>\n",
       "      <td>40</td>\n",
       "      <td>35.68</td>\n",
       "    </tr>\n",
       "    <tr>\n",
       "      <th>2</th>\n",
       "      <td>2</td>\n",
       "      <td>Muros</td>\n",
       "      <td>ES</td>\n",
       "      <td>2021-12-21 17:16:38</td>\n",
       "      <td>42.7762</td>\n",
       "      <td>-9.0603</td>\n",
       "      <td>64.09</td>\n",
       "      <td>79</td>\n",
       "      <td>100</td>\n",
       "      <td>11.07</td>\n",
       "    </tr>\n",
       "    <tr>\n",
       "      <th>6</th>\n",
       "      <td>6</td>\n",
       "      <td>Coihaique</td>\n",
       "      <td>CL</td>\n",
       "      <td>2021-12-21 17:16:39</td>\n",
       "      <td>-45.5752</td>\n",
       "      <td>-72.0662</td>\n",
       "      <td>73.35</td>\n",
       "      <td>35</td>\n",
       "      <td>0</td>\n",
       "      <td>3.44</td>\n",
       "    </tr>\n",
       "    <tr>\n",
       "      <th>10</th>\n",
       "      <td>10</td>\n",
       "      <td>Busselton</td>\n",
       "      <td>AU</td>\n",
       "      <td>2021-12-21 17:16:40</td>\n",
       "      <td>-33.6500</td>\n",
       "      <td>115.3333</td>\n",
       "      <td>60.08</td>\n",
       "      <td>85</td>\n",
       "      <td>17</td>\n",
       "      <td>14.45</td>\n",
       "    </tr>\n",
       "    <tr>\n",
       "      <th>13</th>\n",
       "      <td>13</td>\n",
       "      <td>Asyut</td>\n",
       "      <td>EG</td>\n",
       "      <td>2021-12-21 17:16:41</td>\n",
       "      <td>27.1810</td>\n",
       "      <td>31.1837</td>\n",
       "      <td>54.73</td>\n",
       "      <td>49</td>\n",
       "      <td>7</td>\n",
       "      <td>5.12</td>\n",
       "    </tr>\n",
       "  </tbody>\n",
       "</table>\n",
       "</div>"
      ],
      "text/plain": [
       "    City_ID       City Country                 Date      Lat       Lng  \\\n",
       "0         0    Ushuaia      AR  2021-12-21 17:14:29 -54.8000  -68.3000   \n",
       "2         2      Muros      ES  2021-12-21 17:16:38  42.7762   -9.0603   \n",
       "6         6  Coihaique      CL  2021-12-21 17:16:39 -45.5752  -72.0662   \n",
       "10       10  Busselton      AU  2021-12-21 17:16:40 -33.6500  115.3333   \n",
       "13       13      Asyut      EG  2021-12-21 17:16:41  27.1810   31.1837   \n",
       "\n",
       "    Max Temp  Humidity  Cloudiness  Wind Speed  \n",
       "0      58.62        62          40       35.68  \n",
       "2      64.09        79         100       11.07  \n",
       "6      73.35        35           0        3.44  \n",
       "10     60.08        85          17       14.45  \n",
       "13     54.73        49           7        5.12  "
      ]
     },
     "execution_count": 30,
     "metadata": {},
     "output_type": "execute_result"
    }
   ],
   "source": [
    "#If you have some rows with null values, you'll need to drop them using the dropna()\n",
    "#method at the end of your filtering\n",
    "#statement when you are creating the new DataFrame.\n",
    "preferred_cities_df = preferred_cities_df.dropna(how='any')\n",
    "preferred_cities_df.head()"
   ]
  },
  {
   "cell_type": "code",
   "execution_count": 31,
   "id": "9a7f05eb",
   "metadata": {},
   "outputs": [
    {
     "data": {
      "text/plain": [
       "City_ID       126\n",
       "City          126\n",
       "Country       126\n",
       "Date          126\n",
       "Lat           126\n",
       "Lng           126\n",
       "Max Temp      126\n",
       "Humidity      126\n",
       "Cloudiness    126\n",
       "Wind Speed    126\n",
       "dtype: int64"
      ]
     },
     "execution_count": 31,
     "metadata": {},
     "output_type": "execute_result"
    }
   ],
   "source": [
    "preferred_cities_df.notnull().sum()"
   ]
  },
  {
   "cell_type": "code",
   "execution_count": 32,
   "id": "dbb544af",
   "metadata": {},
   "outputs": [
    {
     "data": {
      "text/html": [
       "<div>\n",
       "<style scoped>\n",
       "    .dataframe tbody tr th:only-of-type {\n",
       "        vertical-align: middle;\n",
       "    }\n",
       "\n",
       "    .dataframe tbody tr th {\n",
       "        vertical-align: top;\n",
       "    }\n",
       "\n",
       "    .dataframe thead th {\n",
       "        text-align: right;\n",
       "    }\n",
       "</style>\n",
       "<table border=\"1\" class=\"dataframe\">\n",
       "  <thead>\n",
       "    <tr style=\"text-align: right;\">\n",
       "      <th></th>\n",
       "      <th>City</th>\n",
       "      <th>Country</th>\n",
       "      <th>Max Temp</th>\n",
       "      <th>Lat</th>\n",
       "      <th>Lng</th>\n",
       "      <th>Hotel Name</th>\n",
       "    </tr>\n",
       "  </thead>\n",
       "  <tbody>\n",
       "    <tr>\n",
       "      <th>0</th>\n",
       "      <td>Ushuaia</td>\n",
       "      <td>AR</td>\n",
       "      <td>58.62</td>\n",
       "      <td>-54.8000</td>\n",
       "      <td>-68.3000</td>\n",
       "      <td></td>\n",
       "    </tr>\n",
       "    <tr>\n",
       "      <th>2</th>\n",
       "      <td>Muros</td>\n",
       "      <td>ES</td>\n",
       "      <td>64.09</td>\n",
       "      <td>42.7762</td>\n",
       "      <td>-9.0603</td>\n",
       "      <td></td>\n",
       "    </tr>\n",
       "    <tr>\n",
       "      <th>6</th>\n",
       "      <td>Coihaique</td>\n",
       "      <td>CL</td>\n",
       "      <td>73.35</td>\n",
       "      <td>-45.5752</td>\n",
       "      <td>-72.0662</td>\n",
       "      <td></td>\n",
       "    </tr>\n",
       "    <tr>\n",
       "      <th>10</th>\n",
       "      <td>Busselton</td>\n",
       "      <td>AU</td>\n",
       "      <td>60.08</td>\n",
       "      <td>-33.6500</td>\n",
       "      <td>115.3333</td>\n",
       "      <td></td>\n",
       "    </tr>\n",
       "    <tr>\n",
       "      <th>13</th>\n",
       "      <td>Asyut</td>\n",
       "      <td>EG</td>\n",
       "      <td>54.73</td>\n",
       "      <td>27.1810</td>\n",
       "      <td>31.1837</td>\n",
       "      <td></td>\n",
       "    </tr>\n",
       "    <tr>\n",
       "      <th>16</th>\n",
       "      <td>Faya</td>\n",
       "      <td>SA</td>\n",
       "      <td>60.91</td>\n",
       "      <td>18.3851</td>\n",
       "      <td>42.4509</td>\n",
       "      <td></td>\n",
       "    </tr>\n",
       "    <tr>\n",
       "      <th>19</th>\n",
       "      <td>Mackay</td>\n",
       "      <td>AU</td>\n",
       "      <td>71.04</td>\n",
       "      <td>-21.1500</td>\n",
       "      <td>149.2000</td>\n",
       "      <td></td>\n",
       "    </tr>\n",
       "    <tr>\n",
       "      <th>20</th>\n",
       "      <td>Kailua</td>\n",
       "      <td>US</td>\n",
       "      <td>73.38</td>\n",
       "      <td>21.4022</td>\n",
       "      <td>-157.7394</td>\n",
       "      <td></td>\n",
       "    </tr>\n",
       "    <tr>\n",
       "      <th>22</th>\n",
       "      <td>Saldanha</td>\n",
       "      <td>ZA</td>\n",
       "      <td>69.30</td>\n",
       "      <td>-33.0117</td>\n",
       "      <td>17.9442</td>\n",
       "      <td></td>\n",
       "    </tr>\n",
       "    <tr>\n",
       "      <th>26</th>\n",
       "      <td>Greytown</td>\n",
       "      <td>ZA</td>\n",
       "      <td>63.25</td>\n",
       "      <td>-29.0642</td>\n",
       "      <td>30.5928</td>\n",
       "      <td></td>\n",
       "    </tr>\n",
       "  </tbody>\n",
       "</table>\n",
       "</div>"
      ],
      "text/plain": [
       "         City Country  Max Temp      Lat       Lng Hotel Name\n",
       "0     Ushuaia      AR     58.62 -54.8000  -68.3000           \n",
       "2       Muros      ES     64.09  42.7762   -9.0603           \n",
       "6   Coihaique      CL     73.35 -45.5752  -72.0662           \n",
       "10  Busselton      AU     60.08 -33.6500  115.3333           \n",
       "13      Asyut      EG     54.73  27.1810   31.1837           \n",
       "16       Faya      SA     60.91  18.3851   42.4509           \n",
       "19     Mackay      AU     71.04 -21.1500  149.2000           \n",
       "20     Kailua      US     73.38  21.4022 -157.7394           \n",
       "22   Saldanha      ZA     69.30 -33.0117   17.9442           \n",
       "26   Greytown      ZA     63.25 -29.0642   30.5928           "
      ]
     },
     "execution_count": 32,
     "metadata": {},
     "output_type": "execute_result"
    }
   ],
   "source": [
    "# Create DataFrame called hotel_df to store hotel names along with city, country, max temp, and coordinates.\n",
    "hotel_df = preferred_cities_df[[\"City\", \"Country\", \"Max Temp\", \"Lat\", \"Lng\"]].copy()\n",
    "hotel_df[\"Hotel Name\"] = \"\"\n",
    "hotel_df.head(10)"
   ]
  },
  {
   "cell_type": "code",
   "execution_count": 33,
   "id": "cf825bd2",
   "metadata": {},
   "outputs": [],
   "source": [
    "# Set parameters to search for a hotel.\n",
    "params = {\n",
    "    \"radius\": 5000,\n",
    "    \"type\": \"lodging\",\n",
    "    \"key\": g_key\n",
    "}"
   ]
  },
  {
   "cell_type": "code",
   "execution_count": 34,
   "id": "02258f2b",
   "metadata": {},
   "outputs": [
    {
     "name": "stdout",
     "output_type": "stream",
     "text": [
      "Hotel not found... skipping.\n",
      "Hotel not found... skipping.\n",
      "Hotel not found... skipping.\n",
      "Hotel not found... skipping.\n",
      "Hotel not found... skipping.\n",
      "Hotel not found... skipping.\n",
      "Hotel not found... skipping.\n",
      "Hotel not found... skipping.\n"
     ]
    },
    {
     "data": {
      "text/html": [
       "<div>\n",
       "<style scoped>\n",
       "    .dataframe tbody tr th:only-of-type {\n",
       "        vertical-align: middle;\n",
       "    }\n",
       "\n",
       "    .dataframe tbody tr th {\n",
       "        vertical-align: top;\n",
       "    }\n",
       "\n",
       "    .dataframe thead th {\n",
       "        text-align: right;\n",
       "    }\n",
       "</style>\n",
       "<table border=\"1\" class=\"dataframe\">\n",
       "  <thead>\n",
       "    <tr style=\"text-align: right;\">\n",
       "      <th></th>\n",
       "      <th>City</th>\n",
       "      <th>Country</th>\n",
       "      <th>Max Temp</th>\n",
       "      <th>Lat</th>\n",
       "      <th>Lng</th>\n",
       "      <th>Hotel Name</th>\n",
       "    </tr>\n",
       "  </thead>\n",
       "  <tbody>\n",
       "    <tr>\n",
       "      <th>0</th>\n",
       "      <td>Ushuaia</td>\n",
       "      <td>AR</td>\n",
       "      <td>58.62</td>\n",
       "      <td>-54.8000</td>\n",
       "      <td>-68.3000</td>\n",
       "      <td>Albatros Hotel</td>\n",
       "    </tr>\n",
       "    <tr>\n",
       "      <th>2</th>\n",
       "      <td>Muros</td>\n",
       "      <td>ES</td>\n",
       "      <td>64.09</td>\n",
       "      <td>42.7762</td>\n",
       "      <td>-9.0603</td>\n",
       "      <td>Apartment Av. Castelao</td>\n",
       "    </tr>\n",
       "    <tr>\n",
       "      <th>6</th>\n",
       "      <td>Coihaique</td>\n",
       "      <td>CL</td>\n",
       "      <td>73.35</td>\n",
       "      <td>-45.5752</td>\n",
       "      <td>-72.0662</td>\n",
       "      <td>Diego De Almagro Coyhaique</td>\n",
       "    </tr>\n",
       "    <tr>\n",
       "      <th>10</th>\n",
       "      <td>Busselton</td>\n",
       "      <td>AU</td>\n",
       "      <td>60.08</td>\n",
       "      <td>-33.6500</td>\n",
       "      <td>115.3333</td>\n",
       "      <td>Observatory Guest House</td>\n",
       "    </tr>\n",
       "    <tr>\n",
       "      <th>13</th>\n",
       "      <td>Asyut</td>\n",
       "      <td>EG</td>\n",
       "      <td>54.73</td>\n",
       "      <td>27.1810</td>\n",
       "      <td>31.1837</td>\n",
       "      <td>فندق ميس إيجيبت Miss Egypt Hotel</td>\n",
       "    </tr>\n",
       "    <tr>\n",
       "      <th>16</th>\n",
       "      <td>Faya</td>\n",
       "      <td>SA</td>\n",
       "      <td>60.91</td>\n",
       "      <td>18.3851</td>\n",
       "      <td>42.4509</td>\n",
       "      <td>املاك خالد الشعشوع</td>\n",
       "    </tr>\n",
       "    <tr>\n",
       "      <th>19</th>\n",
       "      <td>Mackay</td>\n",
       "      <td>AU</td>\n",
       "      <td>71.04</td>\n",
       "      <td>-21.1500</td>\n",
       "      <td>149.2000</td>\n",
       "      <td>International Lodge Motel</td>\n",
       "    </tr>\n",
       "    <tr>\n",
       "      <th>20</th>\n",
       "      <td>Kailua</td>\n",
       "      <td>US</td>\n",
       "      <td>73.38</td>\n",
       "      <td>21.4022</td>\n",
       "      <td>-157.7394</td>\n",
       "      <td>Sheffield House Bed &amp; Breakfast</td>\n",
       "    </tr>\n",
       "    <tr>\n",
       "      <th>22</th>\n",
       "      <td>Saldanha</td>\n",
       "      <td>ZA</td>\n",
       "      <td>69.30</td>\n",
       "      <td>-33.0117</td>\n",
       "      <td>17.9442</td>\n",
       "      <td>Blue Bay Lodge</td>\n",
       "    </tr>\n",
       "    <tr>\n",
       "      <th>26</th>\n",
       "      <td>Greytown</td>\n",
       "      <td>ZA</td>\n",
       "      <td>63.25</td>\n",
       "      <td>-29.0642</td>\n",
       "      <td>30.5928</td>\n",
       "      <td>Lord Grey Guest House</td>\n",
       "    </tr>\n",
       "  </tbody>\n",
       "</table>\n",
       "</div>"
      ],
      "text/plain": [
       "         City Country  Max Temp      Lat       Lng  \\\n",
       "0     Ushuaia      AR     58.62 -54.8000  -68.3000   \n",
       "2       Muros      ES     64.09  42.7762   -9.0603   \n",
       "6   Coihaique      CL     73.35 -45.5752  -72.0662   \n",
       "10  Busselton      AU     60.08 -33.6500  115.3333   \n",
       "13      Asyut      EG     54.73  27.1810   31.1837   \n",
       "16       Faya      SA     60.91  18.3851   42.4509   \n",
       "19     Mackay      AU     71.04 -21.1500  149.2000   \n",
       "20     Kailua      US     73.38  21.4022 -157.7394   \n",
       "22   Saldanha      ZA     69.30 -33.0117   17.9442   \n",
       "26   Greytown      ZA     63.25 -29.0642   30.5928   \n",
       "\n",
       "                          Hotel Name  \n",
       "0                     Albatros Hotel  \n",
       "2             Apartment Av. Castelao  \n",
       "6         Diego De Almagro Coyhaique  \n",
       "10           Observatory Guest House  \n",
       "13  فندق ميس إيجيبت Miss Egypt Hotel  \n",
       "16                املاك خالد الشعشوع  \n",
       "19         International Lodge Motel  \n",
       "20   Sheffield House Bed & Breakfast  \n",
       "22                    Blue Bay Lodge  \n",
       "26             Lord Grey Guest House  "
      ]
     },
     "execution_count": 34,
     "metadata": {},
     "output_type": "execute_result"
    }
   ],
   "source": [
    "# Iterate through the DataFrame.\n",
    "for index, row in hotel_df.iterrows():\n",
    "    # Get the latitude and longitude.\n",
    "    lat = row[\"Lat\"]\n",
    "    lng = row[\"Lng\"]\n",
    "\n",
    "    # Add the latitude and longitude to location key for the params dictionary.\n",
    "    params[\"location\"] = f\"{lat},{lng}\"\n",
    "\n",
    "    # Use the search term: \"lodging\" and our latitude and longitude.\n",
    "    base_url = \"https://maps.googleapis.com/maps/api/place/nearbysearch/json\"\n",
    "    # Make request and get the JSON data from the search.\n",
    "    hotels = requests.get(base_url, params=params).json()\n",
    "    # Grab the first hotel from the results and store the name.\n",
    "    #hotel_df.loc[index, \"Hotel Name\"] = hotels[\"results\"][0][\"name\"]\n",
    "    # Grab the first hotel from the results and store the name.\n",
    "    try:\n",
    "        hotel_df.loc[index, \"Hotel Name\"] = hotels[\"results\"][0][\"name\"]\n",
    "    except (IndexError):\n",
    "            print(\"Hotel not found... skipping.\")\n",
    "            \n",
    "            \n",
    "hotel_df.head(10)            "
   ]
  },
  {
   "cell_type": "code",
   "execution_count": 35,
   "id": "43cc565b",
   "metadata": {},
   "outputs": [
    {
     "data": {
      "application/vnd.jupyter.widget-view+json": {
       "model_id": "a6b742626a674b7ba6a505c1464ba59e",
       "version_major": 2,
       "version_minor": 0
      },
      "text/plain": [
       "Figure(layout=FigureLayout(height='420px'))"
      ]
     },
     "metadata": {},
     "output_type": "display_data"
    }
   ],
   "source": [
    "# Add a heatmap of temperature for the vacation spots and marker for each city.\n",
    "locations = hotel_df[[\"Lat\", \"Lng\"]]\n",
    "max_temp = hotel_df[\"Max Temp\"]\n",
    "fig = gmaps.figure(center=(30.0, 31.0), zoom_level=1.5)\n",
    "heat_layer = gmaps.heatmap_layer(locations, weights=max_temp,\n",
    "             dissipating=False, max_intensity=300, point_radius=4)\n",
    "marker_layer = gmaps.marker_layer(locations)\n",
    "fig.add_layer(heat_layer)\n",
    "fig.add_layer(marker_layer)\n",
    "# Call the figure to plot the data.\n",
    "fig"
   ]
  },
  {
   "cell_type": "code",
   "execution_count": 36,
   "id": "e47d1c01",
   "metadata": {},
   "outputs": [],
   "source": [
    "info_box_template = \"\"\"\n",
    "<dl>\n",
    "<dt>Hotel Name</dt><dd>{Hotel Name}</dd>\n",
    "<dt>City</dt><dd>{City}</dd>\n",
    "<dt>Country</dt><dd>{Country}</dd>\n",
    "<dt>Max Temp</dt><dd>{Max Temp} °F</dd>\n",
    "</dl>\n",
    "\"\"\""
   ]
  },
  {
   "cell_type": "code",
   "execution_count": 37,
   "id": "e17ad0ab",
   "metadata": {},
   "outputs": [],
   "source": [
    "# Store the DataFrame Row.\n",
    "hotel_info = [info_box_template.format(**row) for index, row in hotel_df.iterrows()]"
   ]
  },
  {
   "cell_type": "code",
   "execution_count": 38,
   "id": "c5a14e17",
   "metadata": {},
   "outputs": [
    {
     "data": {
      "application/vnd.jupyter.widget-view+json": {
       "model_id": "70678604ed3040d79693fa34748eb5ab",
       "version_major": 2,
       "version_minor": 0
      },
      "text/plain": [
       "Figure(layout=FigureLayout(height='420px'))"
      ]
     },
     "metadata": {},
     "output_type": "display_data"
    }
   ],
   "source": [
    "# Add a heatmap of temperature for the vacation spots and a pop-up marker for each city.\n",
    "locations = hotel_df[[\"Lat\", \"Lng\"]]\n",
    "max_temp = hotel_df[\"Max Temp\"]\n",
    "fig = gmaps.figure(center=(30.0, 31.0), zoom_level=1.5)\n",
    "heat_layer = gmaps.heatmap_layer(locations, weights=max_temp,dissipating=False,\n",
    "             max_intensity=300, point_radius=4)\n",
    "marker_layer = gmaps.marker_layer(locations, info_box_content=hotel_info)\n",
    "fig.add_layer(heat_layer)\n",
    "fig.add_layer(marker_layer)\n",
    "\n",
    "# Call the figure to plot the data.\n",
    "fig"
   ]
  },
  {
   "cell_type": "code",
   "execution_count": null,
   "id": "11be6a8a",
   "metadata": {},
   "outputs": [],
   "source": []
  },
  {
   "cell_type": "code",
   "execution_count": null,
   "id": "6e5cef14",
   "metadata": {},
   "outputs": [],
   "source": []
  }
 ],
 "metadata": {
  "kernelspec": {
   "display_name": "PythonData",
   "language": "python",
   "name": "pythondata"
  },
  "language_info": {
   "codemirror_mode": {
    "name": "ipython",
    "version": 3
   },
   "file_extension": ".py",
   "mimetype": "text/x-python",
   "name": "python",
   "nbconvert_exporter": "python",
   "pygments_lexer": "ipython3",
   "version": "3.7.6"
  }
 },
 "nbformat": 4,
 "nbformat_minor": 5
}
